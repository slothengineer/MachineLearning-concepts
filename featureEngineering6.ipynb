{
 "cells": [
  {
   "cell_type": "markdown",
   "id": "030cc00a-dba1-4b9d-a868-4197706f61db",
   "metadata": {},
   "source": [
    "### Pearson correlation coefficient is a measure of the linear relationship between two variables. Suppose you have collected data on the amount of time students spend studying for an exam and their final exam scores. Calculate the Pearson correlation coefficient between these two variables and interpret the result."
   ]
  },
  {
   "cell_type": "code",
   "execution_count": 9,
   "id": "bb8f454a-d8ac-41e9-98cf-422efe04c036",
   "metadata": {},
   "outputs": [
    {
     "name": "stdout",
     "output_type": "stream",
     "text": [
      "Pearson Correlation Coefficient: 0.9639326334296814\n",
      "Interpretation: There is a positive linear relationship.\n"
     ]
    }
   ],
   "source": [
    "import numpy as np\n",
    "from scipy.stats import pearsonr\n",
    "\n",
    "study_hours_per_day = [2, 3, 1, 4, 2, 5, 3, 6, 4, 5]\n",
    "exam_scores =  [70, 78, 67, 90, 78, 95, 85, 98, 87, 94]\n",
    "\n",
    "corr_coefficient, _ = pearsonr(study_hours_per_day, exam_scores)\n",
    "\n",
    "if corr_coefficient > 0:\n",
    "    interpretation = \"There is a positive linear relationship.\"\n",
    "elif corr_coefficient < 0:\n",
    "    interpretation = \"There is a negative linear relationship.\"\n",
    "else:\n",
    "    interpretation = \"There is little to no linear relationship.\"\n",
    "\n",
    "print(f\"Pearson Correlation Coefficient: {corr_coefficient}\")\n",
    "print(f\"Interpretation: {interpretation}\")"
   ]
  },
  {
   "cell_type": "markdown",
   "id": "cd0e7875-ed4a-44bd-b059-659932d25f8b",
   "metadata": {},
   "source": [
    "The Pearson correlation coefficient (r) will range from -1 to 1.\n",
    "If r is close to 1, it indicates a strong positive linear relationship. This means that as students spend more time studying, their exam scores tend to be higher.\n",
    "If r is close to -1, it indicates a strong negative linear relationship. This means that as students spend more time studying, their exam scores tend to be lower.\n",
    "If r is close to 0, it suggests a weak or no linear relationship. In this case, there is little to no linear association between study time and exam scores."
   ]
  },
  {
   "cell_type": "markdown",
   "id": "0ecfeb0a-a242-4a63-ad8e-26cd39e9febc",
   "metadata": {},
   "source": [
    "### Spearman's rank correlation is a measure of the monotonic relationship between two variables. Suppose you have collected data on the amount of sleep individuals get each night and their overall job satisfaction level on a scale of 1 to 10. Calculate the Spearman's rank correlation between these two variables and interpret the result."
   ]
  },
  {
   "cell_type": "code",
   "execution_count": 17,
   "id": "c1efa790-5fd3-41c4-b64f-a1859422cc3e",
   "metadata": {},
   "outputs": [
    {
     "name": "stdout",
     "output_type": "stream",
     "text": [
      "Spearman's Rank Correlation Coefficient (ρ): 0.92\n",
      "Interpretation: There is a positive monotonic relationship.\n"
     ]
    }
   ],
   "source": [
    "import scipy.stats as stats\n",
    "\n",
    "sleep_hours =      [7, 6, 8, 5, 7, 6, 8]\n",
    "job_satisfaction = [7, 7, 8, 4, 8, 6, 9]\n",
    "\n",
    "rho, _ = stats.spearmanr(sleep_hours, job_satisfaction)\n",
    "\n",
    "if rho > 0:\n",
    "    interpretation = \"There is a positive monotonic relationship.\"\n",
    "elif rho < 0:\n",
    "    interpretation = \"There is a negative monotonic relationship.\"\n",
    "else:\n",
    "    interpretation = \"There is little to no monotonic relationship.\"\n",
    "\n",
    "print(f\"Spearman's Rank Correlation Coefficient (ρ): {rho:.2f}\")\n",
    "print(f\"Interpretation: {interpretation}\")"
   ]
  },
  {
   "cell_type": "markdown",
   "id": "09c2244e-8abb-4bbf-9d17-d16f60bf840b",
   "metadata": {},
   "source": [
    "If ρ is close to 1, it indicates a strong positive monotonic relationship. This means that as the amount of sleep increases, job satisfaction tends to increase.\n",
    "If ρ is close to -1, it indicates a strong negative monotonic relationship. This means that as the amount of sleep increases, job satisfaction tends to decrease.\n",
    "If ρ is close to 0, it suggests a weak or no monotonic relationship. In this case, there is little to no consistent monotonic association between sleep and job satisfaction."
   ]
  },
  {
   "cell_type": "markdown",
   "id": "64662fd5-30e3-41f8-8f5d-1914c79e5b33",
   "metadata": {},
   "source": [
    "###  Suppose you are conducting a study to examine the relationship between the number of hours of exercise per week and body mass index (BMI) in a sample of adults. You collected data on both variables for 50 participants. Calculate the Pearson correlation coefficient and the Spearman's rank correlation between these two variables and compare the results."
   ]
  },
  {
   "cell_type": "code",
   "execution_count": 24,
   "id": "f2f26898-4291-4775-8e30-a91d2820d17a",
   "metadata": {},
   "outputs": [
    {
     "name": "stdout",
     "output_type": "stream",
     "text": [
      "Pearson Correlation Coefficient: 0.72\n",
      "Spearman's Rank Correlation Coefficient: 0.75\n"
     ]
    }
   ],
   "source": [
    "import numpy as np\n",
    "from scipy.stats import pearsonr, spearmanr\n",
    "\n",
    "exercise_hours = [3, 5, 2, 4, 6, 3, 7, 5, 4, 6, 2, 3, 4, 5, 2, 6, 7, 3, 5, 4,\n",
    "                  6, 2, 3, 4, 5, 2, 6, 7, 3, 5, 4, 6, 2, 3, 4, 5, 2, 6, 7, 3,\n",
    "                  5, 4, 6, 2, 3, 4, 5, 2, 5, 7]\n",
    "bmi = [25.2, 29.1, 23.4, 27.8, 31.2, 26.0, 32.5, 28.7, 27.3, 30.9, 24.1, 25.7,\n",
    "       28.5, 29.8, 23.9, 31.5, 32.8, 26.2, 29.3, 27.6, 31.0, 24.8, 26.5, 28.3,\n",
    "       30.2, 23.2, 31.8, 33.1, 26.6, 29.5, 27.9, 31.1, 24.5, 26.9, 28.1, 30.1,\n",
    "       23.5, 32.0, 33.2, 27.1, 29.7, 27.4, 30.4, 23.8, 31.9, 33.0, 27.0, 29.9, 27.5, 22]\n",
    "\n",
    "pearson_corr, _ = pearsonr(exercise_hours, bmi)\n",
    "\n",
    "spearman_corr, _ = spearmanr(exercise_hours, bmi)\n",
    "\n",
    "print(f\"Pearson Correlation Coefficient: {pearson_corr:.2f}\")\n",
    "print(f\"Spearman's Rank Correlation Coefficient: {spearman_corr:.2f}\")"
   ]
  },
  {
   "cell_type": "markdown",
   "id": "1b6ff9f5-08a9-458d-930f-6ac7fe3eb7a0",
   "metadata": {},
   "source": [
    "1. **Pearson Correlation Coefficient (r = 0.72):**\n",
    "   - The Pearson correlation coefficient measures the linear relationship between two variables.\n",
    "   - A value of 0.72 suggests a moderately strong positive linear relationship between the number of hours of exercise per week and body mass index (BMI).\n",
    "   - This means that as the number of hours of exercise per week increases, BMI tends to increase, but the relationship may not be perfect or strictly linear.\n",
    "\n",
    "2. **Spearman's Rank Correlation Coefficient (ρ = 0.75):**\n",
    "   - Spearman's rank correlation coefficient measures the monotonic relationship between two variables, which captures non-linear relationships as well.\n",
    "   - A value of 0.75 indicates a moderately strong positive monotonic relationship between the number of hours of exercise per week and BMI.\n",
    "   - This suggests that there is a consistent trend: as the number of hours of exercise per week increases, BMI tends to increase, regardless of whether the relationship is strictly linear."
   ]
  },
  {
   "cell_type": "markdown",
   "id": "05c5b034-9a7d-4823-84e6-3310192e7543",
   "metadata": {},
   "source": [
    "### A researcher is interested in examining the relationship between the number of hours individuals spend watching television per day and their level of physical activity. The researcher collected data on both variables from a sample of 50 participants. Calculate the Pearson correlation coefficient between these two variables."
   ]
  },
  {
   "cell_type": "code",
   "execution_count": 29,
   "id": "94364c6e-88d0-48c2-88df-74bb0b509565",
   "metadata": {},
   "outputs": [
    {
     "name": "stdout",
     "output_type": "stream",
     "text": [
      "Pearson Correlation Coefficient: -0.32\n"
     ]
    }
   ],
   "source": [
    "import numpy as np\n",
    "\n",
    "tv_hours = [2.5, 3.0, 4.5, 2.0, 5.0, 3.5, 2.0, 4.0, 6.0, 1.5, 2.5, 3.0, 4.0, 5.5, 2.0, 3.5, 2.0, 4.0, 6.0, 1.5,\n",
    "            3.0, 4.5, 2.0, 5.0, 3.5, 2.0, 4.0, 6.0, 1.5, 2.5, 3.0, 4.0, 5.5, 2.0, 3.5, 2.0, 4.0, 6.0, 1.5, 2.5,\n",
    "            3.0, 4.0, 5.5, 2.0, 3.5, 2.0, 4.0, 6.0, 5.0, 5.5]\n",
    "\n",
    "physical_activity = [3, 2, 1, 4, 2, 3, 4, 2, 1, 5, 3, 2, 1, 4, 2, 3, 4, 2, 1, 5,\n",
    "                     2, 3, 4, 2, 1, 5, 3, 2, 1, 4, 2, 3, 4, 2, 1, 5, 3, 2, 1, 4,\n",
    "                     2, 3, 4, 2, 1, 5, 3, 2, 1, 4]\n",
    "\n",
    "pearson_corr = np.corrcoef(tv_hours, physical_activity)[0, 1]\n",
    "\n",
    "print(f\"Pearson Correlation Coefficient: {pearson_corr:.2f}\")"
   ]
  },
  {
   "attachments": {
    "66de70bd-81f8-44d8-879c-8338de6d1258.png": {
     "image/png": "[encoded data removed]"
    }
   },
   "cell_type": "markdown",
   "id": "6f2e42fa-29cd-422f-acfe-9bdf610bb094",
   "metadata": {},
   "source": [
    "###  A survey was conducted to examine the relationship between age and preference for a particular brand of soft drink. The survey results are shown below:\n",
    "\n",
    "![Given data.png](attachment:66de70bd-81f8-44d8-879c-8338de6d1258.png)"
   ]
  },
  {
   "cell_type": "code",
   "execution_count": 39,
   "id": "caa90dfb-435e-42a1-b0ef-79d13ecf0216",
   "metadata": {},
   "outputs": [
    {
     "name": "stdout",
     "output_type": "stream",
     "text": [
      "F_onewayResult(statistic=72.98774740810559, pvalue=6.592754475599983e-06)\n",
      "There is a statistically significant relationship between age and preference label.\n"
     ]
    }
   ],
   "source": [
    "import pandas as pd\n",
    "import scipy.stats as stats\n",
    "\n",
    "data = {'Age': [25, 42, 37, 19, 31, 27],\n",
    "        'Soft_Drink_Preference': ['Coke', 'Pepsi', 'Mountain Dew', 'Coke', 'Pepsi', 'Coke']}\n",
    "df = pd.DataFrame(data)\n",
    "\n",
    "label_encoder = LabelEncoder()\n",
    "\n",
    "df['Preference_Label'] = label_encoder.fit_transform(df['Soft_Drink_Preference'])\n",
    "\n",
    "result = stats.f_oneway(df['Age'], df['Preference_Label'])\n",
    "\n",
    "print(result)\n",
    "if result.pvalue < 0.05:\n",
    "    print(\"There is a statistically significant relationship between age and preference label.\")\n",
    "else:\n",
    "    print(\"There is no statistically significant relationship between age and preference label.\")"
   ]
  },
  {
   "cell_type": "code",
   "execution_count": 43,
   "id": "c5b1b529-bdf0-442d-9dcd-b07af8381da5",
   "metadata": {},
   "outputs": [
    {
     "name": "stdout",
     "output_type": "stream",
     "text": [
      "                  count       mean       std   min    25%   50%    75%   max\n",
      "Preference_Label                                                            \n",
      "0                   3.0  23.666667  4.163332  19.0  22.00  25.0  26.00  27.0\n",
      "1                   1.0  37.000000       NaN  37.0  37.00  37.0  37.00  37.0\n",
      "2                   2.0  36.500000  7.778175  31.0  33.75  36.5  39.25  42.0\n"
     ]
    }
   ],
   "source": [
    "summary_stats = df.groupby('Preference_Label')['Age'].describe()\n",
    "print(summary_stats)"
   ]
  },
  {
   "cell_type": "code",
   "execution_count": 40,
   "id": "4b2e10ef-8956-45ee-9f89-3481eb0e9559",
   "metadata": {},
   "outputs": [
    {
     "data": {
      "image/png": "[encoded data removed]",
      "text/plain": [
       "<Figure size 800x500 with 1 Axes>"
      ]
     },
     "metadata": {},
     "output_type": "display_data"
    }
   ],
   "source": [
    "plt.figure(figsize=(8, 5))\n",
    "sns.boxplot(data=df, x='Preference_Label', y='Age', hue='Soft_Drink_Preference', palette='deep')\n",
    "plt.xlabel('Preference_Label')\n",
    "plt.ylabel('Age')\n",
    "plt.title('Relationship Between Age and Preference Label (Box Plot)')\n",
    "plt.show()"
   ]
  },
  {
   "cell_type": "markdown",
   "id": "e6702b51-de6f-4115-ae05-e509b001b62b",
   "metadata": {},
   "source": [
    "###  A company is interested in examining the relationship between the number of sales calls made per day and the number of sales made per week. The company collected data on both variables from a sample of 30 sales representatives. Calculate the Pearson correlation coefficient between these two variables."
   ]
  },
  {
   "cell_type": "code",
   "execution_count": 42,
   "id": "7c674822-2912-45d9-82b4-72600f65758f",
   "metadata": {},
   "outputs": [
    {
     "name": "stdout",
     "output_type": "stream",
     "text": [
      "Pearson Correlation Coefficient: 0.99\n"
     ]
    }
   ],
   "source": [
    "import numpy as np\n",
    "from scipy.stats import pearsonr\n",
    "\n",
    "sales_calls_per_day = [20, 18, 22, 17, 19, 23, 21, 16, 18, 20,\n",
    "                       19, 17, 22, 18, 20, 19, 21, 23, 17, 16,\n",
    "                       24, 22, 19, 20, 18, 23, 17, 21, 19, 20]\n",
    "\n",
    "sales_per_week = [150, 140, 160, 130, 145, 165, 155, 125, 135, 150,\n",
    "                  140, 130, 160, 140, 150, 145, 155, 165, 130, 125,\n",
    "                  170, 160, 145, 150, 140, 165, 130, 155, 140, 150]\n",
    "\n",
    "correlation, _ = pearsonr(sales_calls_per_day, sales_per_week)\n",
    "\n",
    "print(f\"Pearson Correlation Coefficient: {correlation:.2f}\")"
   ]
  },
  {
   "cell_type": "code",
   "execution_count": null,
   "id": "0c98711d-ce03-43f2-887c-ec2177a3dbe9",
   "metadata": {},
   "outputs": [],
   "source": []
  }
 ],
 "metadata": {
  "kernelspec": {
   "display_name": "Python 3 (ipykernel)",
   "language": "python",
   "name": "python3"
  },
  "language_info": {
   "codemirror_mode": {
    "name": "ipython",
    "version": 3
   },
   "file_extension": ".py",
   "mimetype": "text/x-python",
   "name": "python",
   "nbconvert_exporter": "python",
   "pygments_lexer": "ipython3",
   "version": "3.10.8"
  }
 },
 "nbformat": 4,
 "nbformat_minor": 5
}
