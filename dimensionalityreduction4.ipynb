{
 "cells": [
  {
   "cell_type": "markdown",
   "id": "5c8495ba-33a6-4377-b049-126fb9e673d5",
   "metadata": {},
   "source": [
    "## PCA Implementation"
   ]
  },
  {
   "cell_type": "markdown",
   "id": "269cddf0-7c8d-42be-9b2b-bbce2668681e",
   "metadata": {},
   "source": [
    "Objective: The objective of this assignment is to implement PCA on a given dataset and analyse the results.\n",
    "\n",
    "Instructions:\n",
    "\n",
    "Dataset link: (https://archive.ics.uci.edu/ml/datasets/Wine).\n",
    "\n",
    "1. Load the dataset into a Pandas dataframe.\n",
    "2. Split the dataset into features and target variables.\n",
    "3. Perform data preprocessing (e.g., scaling, normalisation, missing value imputation) as necessary.\n",
    "4. Implement PCA on the preprocessed dataset using the scikit-learn library.\n",
    "5. Determine the optimal number of principal components to retain based on the explained variance ratio.\n",
    "6. Visualise the results of PCA using a scatter plot.\n",
    "7. Perform clustering on the PCA-transformed data using K-Means clustering algorithm.\n",
    "8. Interpret the results of PCA and clustering analysis.\n",
    "\n",
    "Deliverables:\n",
    "1. Jupyter notebook containing the code for the PCA implementation.\n",
    "2. A report summarising the results of PCA and clustering analysis.\n",
    "3. Scatter plot showing the results of PCA.\n",
    "4. A table showing the performance metrics for the clustering algorithm."
   ]
  },
  {
   "cell_type": "code",
   "execution_count": 152,
   "id": "e8aaea0b-6c03-42dd-a375-70e7aec305c9",
   "metadata": {},
   "outputs": [],
   "source": [
    "import requests\n",
    "\n",
    "url = \"https://archive.ics.uci.edu/ml/machine-learning-databases/wine/wine.data\"\n",
    "response = requests.get(url)\n",
    "with open(\"wine.data\", \"wb\") as file:\n",
    "    file.write(response.content)"
   ]
  },
  {
   "cell_type": "code",
   "execution_count": 153,
   "id": "6e37012d-a0f6-47f2-b1a1-25373afcd991",
   "metadata": {},
   "outputs": [],
   "source": [
    "import pandas as pd\n",
    "\n",
    "column_names = [\"Class\", \"Alcohol\", \"Malic_Acid\", \"Ash\", \"Alcalinity_of_Ash\", \"Magnesium\", \"Total_Phenols\", \"Flavanoids\", \"Nonflavanoid_Phenols\", \"Proanthocyanins\", \"Color_Intensity\", \"Hue\", \"OD280_OD315\", \"Proline\"]\n",
    "data = pd.read_csv(\"wine.data\", names=column_names)"
   ]
  },
  {
   "cell_type": "code",
   "execution_count": 154,
   "id": "cc370ebd-e0f7-47b2-a998-459aa8045afe",
   "metadata": {},
   "outputs": [
    {
     "data": {
      "text/html": [
       "<div>\n",
       "<style scoped>\n",
       "    .dataframe tbody tr th:only-of-type {\n",
       "        vertical-align: middle;\n",
       "    }\n",
       "\n",
       "    .dataframe tbody tr th {\n",
       "        vertical-align: top;\n",
       "    }\n",
       "\n",
       "    .dataframe thead th {\n",
       "        text-align: right;\n",
       "    }\n",
       "</style>\n",
       "<table border=\"1\" class=\"dataframe\">\n",
       "  <thead>\n",
       "    <tr style=\"text-align: right;\">\n",
       "      <th></th>\n",
       "      <th>Class</th>\n",
       "      <th>Alcohol</th>\n",
       "      <th>Malic_Acid</th>\n",
       "      <th>Ash</th>\n",
       "      <th>Alcalinity_of_Ash</th>\n",
       "      <th>Magnesium</th>\n",
       "      <th>Total_Phenols</th>\n",
       "      <th>Flavanoids</th>\n",
       "      <th>Nonflavanoid_Phenols</th>\n",
       "      <th>Proanthocyanins</th>\n",
       "      <th>Color_Intensity</th>\n",
       "      <th>Hue</th>\n",
       "      <th>OD280_OD315</th>\n",
       "      <th>Proline</th>\n",
       "    </tr>\n",
       "  </thead>\n",
       "  <tbody>\n",
       "    <tr>\n",
       "      <th>0</th>\n",
       "      <td>1</td>\n",
       "      <td>14.23</td>\n",
       "      <td>1.71</td>\n",
       "      <td>2.43</td>\n",
       "      <td>15.6</td>\n",
       "      <td>127</td>\n",
       "      <td>2.80</td>\n",
       "      <td>3.06</td>\n",
       "      <td>0.28</td>\n",
       "      <td>2.29</td>\n",
       "      <td>5.64</td>\n",
       "      <td>1.04</td>\n",
       "      <td>3.92</td>\n",
       "      <td>1065</td>\n",
       "    </tr>\n",
       "    <tr>\n",
       "      <th>1</th>\n",
       "      <td>1</td>\n",
       "      <td>13.20</td>\n",
       "      <td>1.78</td>\n",
       "      <td>2.14</td>\n",
       "      <td>11.2</td>\n",
       "      <td>100</td>\n",
       "      <td>2.65</td>\n",
       "      <td>2.76</td>\n",
       "      <td>0.26</td>\n",
       "      <td>1.28</td>\n",
       "      <td>4.38</td>\n",
       "      <td>1.05</td>\n",
       "      <td>3.40</td>\n",
       "      <td>1050</td>\n",
       "    </tr>\n",
       "    <tr>\n",
       "      <th>2</th>\n",
       "      <td>1</td>\n",
       "      <td>13.16</td>\n",
       "      <td>2.36</td>\n",
       "      <td>2.67</td>\n",
       "      <td>18.6</td>\n",
       "      <td>101</td>\n",
       "      <td>2.80</td>\n",
       "      <td>3.24</td>\n",
       "      <td>0.30</td>\n",
       "      <td>2.81</td>\n",
       "      <td>5.68</td>\n",
       "      <td>1.03</td>\n",
       "      <td>3.17</td>\n",
       "      <td>1185</td>\n",
       "    </tr>\n",
       "    <tr>\n",
       "      <th>3</th>\n",
       "      <td>1</td>\n",
       "      <td>14.37</td>\n",
       "      <td>1.95</td>\n",
       "      <td>2.50</td>\n",
       "      <td>16.8</td>\n",
       "      <td>113</td>\n",
       "      <td>3.85</td>\n",
       "      <td>3.49</td>\n",
       "      <td>0.24</td>\n",
       "      <td>2.18</td>\n",
       "      <td>7.80</td>\n",
       "      <td>0.86</td>\n",
       "      <td>3.45</td>\n",
       "      <td>1480</td>\n",
       "    </tr>\n",
       "    <tr>\n",
       "      <th>4</th>\n",
       "      <td>1</td>\n",
       "      <td>13.24</td>\n",
       "      <td>2.59</td>\n",
       "      <td>2.87</td>\n",
       "      <td>21.0</td>\n",
       "      <td>118</td>\n",
       "      <td>2.80</td>\n",
       "      <td>2.69</td>\n",
       "      <td>0.39</td>\n",
       "      <td>1.82</td>\n",
       "      <td>4.32</td>\n",
       "      <td>1.04</td>\n",
       "      <td>2.93</td>\n",
       "      <td>735</td>\n",
       "    </tr>\n",
       "  </tbody>\n",
       "</table>\n",
       "</div>"
      ],
      "text/plain": [
       "   Class  Alcohol  Malic_Acid   Ash  Alcalinity_of_Ash  Magnesium  \\\n",
       "0      1    14.23        1.71  2.43               15.6        127   \n",
       "1      1    13.20        1.78  2.14               11.2        100   \n",
       "2      1    13.16        2.36  2.67               18.6        101   \n",
       "3      1    14.37        1.95  2.50               16.8        113   \n",
       "4      1    13.24        2.59  2.87               21.0        118   \n",
       "\n",
       "   Total_Phenols  Flavanoids  Nonflavanoid_Phenols  Proanthocyanins  \\\n",
       "0           2.80        3.06                  0.28             2.29   \n",
       "1           2.65        2.76                  0.26             1.28   \n",
       "2           2.80        3.24                  0.30             2.81   \n",
       "3           3.85        3.49                  0.24             2.18   \n",
       "4           2.80        2.69                  0.39             1.82   \n",
       "\n",
       "   Color_Intensity   Hue  OD280_OD315  Proline  \n",
       "0             5.64  1.04         3.92     1065  \n",
       "1             4.38  1.05         3.40     1050  \n",
       "2             5.68  1.03         3.17     1185  \n",
       "3             7.80  0.86         3.45     1480  \n",
       "4             4.32  1.04         2.93      735  "
      ]
     },
     "execution_count": 154,
     "metadata": {},
     "output_type": "execute_result"
    }
   ],
   "source": [
    "data.head()"
   ]
  },
  {
   "cell_type": "code",
   "execution_count": 155,
   "id": "f16b0542-245c-4130-b0f9-f9763fa4de1a",
   "metadata": {},
   "outputs": [
    {
     "data": {
      "text/html": [
       "<div>\n",
       "<style scoped>\n",
       "    .dataframe tbody tr th:only-of-type {\n",
       "        vertical-align: middle;\n",
       "    }\n",
       "\n",
       "    .dataframe tbody tr th {\n",
       "        vertical-align: top;\n",
       "    }\n",
       "\n",
       "    .dataframe thead th {\n",
       "        text-align: right;\n",
       "    }\n",
       "</style>\n",
       "<table border=\"1\" class=\"dataframe\">\n",
       "  <thead>\n",
       "    <tr style=\"text-align: right;\">\n",
       "      <th></th>\n",
       "      <th>Class</th>\n",
       "      <th>Alcohol</th>\n",
       "      <th>Malic_Acid</th>\n",
       "      <th>Ash</th>\n",
       "      <th>Alcalinity_of_Ash</th>\n",
       "      <th>Magnesium</th>\n",
       "      <th>Total_Phenols</th>\n",
       "      <th>Flavanoids</th>\n",
       "      <th>Nonflavanoid_Phenols</th>\n",
       "      <th>Proanthocyanins</th>\n",
       "      <th>Color_Intensity</th>\n",
       "      <th>Hue</th>\n",
       "      <th>OD280_OD315</th>\n",
       "      <th>Proline</th>\n",
       "    </tr>\n",
       "  </thead>\n",
       "  <tbody>\n",
       "    <tr>\n",
       "      <th>count</th>\n",
       "      <td>178.000000</td>\n",
       "      <td>178.000000</td>\n",
       "      <td>178.000000</td>\n",
       "      <td>178.000000</td>\n",
       "      <td>178.000000</td>\n",
       "      <td>178.000000</td>\n",
       "      <td>178.000000</td>\n",
       "      <td>178.000000</td>\n",
       "      <td>178.000000</td>\n",
       "      <td>178.000000</td>\n",
       "      <td>178.000000</td>\n",
       "      <td>178.000000</td>\n",
       "      <td>178.000000</td>\n",
       "      <td>178.000000</td>\n",
       "    </tr>\n",
       "    <tr>\n",
       "      <th>mean</th>\n",
       "      <td>1.938202</td>\n",
       "      <td>13.000618</td>\n",
       "      <td>2.336348</td>\n",
       "      <td>2.366517</td>\n",
       "      <td>19.494944</td>\n",
       "      <td>99.741573</td>\n",
       "      <td>2.295112</td>\n",
       "      <td>2.029270</td>\n",
       "      <td>0.361854</td>\n",
       "      <td>1.590899</td>\n",
       "      <td>5.058090</td>\n",
       "      <td>0.957449</td>\n",
       "      <td>2.611685</td>\n",
       "      <td>746.893258</td>\n",
       "    </tr>\n",
       "    <tr>\n",
       "      <th>std</th>\n",
       "      <td>0.775035</td>\n",
       "      <td>0.811827</td>\n",
       "      <td>1.117146</td>\n",
       "      <td>0.274344</td>\n",
       "      <td>3.339564</td>\n",
       "      <td>14.282484</td>\n",
       "      <td>0.625851</td>\n",
       "      <td>0.998859</td>\n",
       "      <td>0.124453</td>\n",
       "      <td>0.572359</td>\n",
       "      <td>2.318286</td>\n",
       "      <td>0.228572</td>\n",
       "      <td>0.709990</td>\n",
       "      <td>314.907474</td>\n",
       "    </tr>\n",
       "    <tr>\n",
       "      <th>min</th>\n",
       "      <td>1.000000</td>\n",
       "      <td>11.030000</td>\n",
       "      <td>0.740000</td>\n",
       "      <td>1.360000</td>\n",
       "      <td>10.600000</td>\n",
       "      <td>70.000000</td>\n",
       "      <td>0.980000</td>\n",
       "      <td>0.340000</td>\n",
       "      <td>0.130000</td>\n",
       "      <td>0.410000</td>\n",
       "      <td>1.280000</td>\n",
       "      <td>0.480000</td>\n",
       "      <td>1.270000</td>\n",
       "      <td>278.000000</td>\n",
       "    </tr>\n",
       "    <tr>\n",
       "      <th>25%</th>\n",
       "      <td>1.000000</td>\n",
       "      <td>12.362500</td>\n",
       "      <td>1.602500</td>\n",
       "      <td>2.210000</td>\n",
       "      <td>17.200000</td>\n",
       "      <td>88.000000</td>\n",
       "      <td>1.742500</td>\n",
       "      <td>1.205000</td>\n",
       "      <td>0.270000</td>\n",
       "      <td>1.250000</td>\n",
       "      <td>3.220000</td>\n",
       "      <td>0.782500</td>\n",
       "      <td>1.937500</td>\n",
       "      <td>500.500000</td>\n",
       "    </tr>\n",
       "    <tr>\n",
       "      <th>50%</th>\n",
       "      <td>2.000000</td>\n",
       "      <td>13.050000</td>\n",
       "      <td>1.865000</td>\n",
       "      <td>2.360000</td>\n",
       "      <td>19.500000</td>\n",
       "      <td>98.000000</td>\n",
       "      <td>2.355000</td>\n",
       "      <td>2.135000</td>\n",
       "      <td>0.340000</td>\n",
       "      <td>1.555000</td>\n",
       "      <td>4.690000</td>\n",
       "      <td>0.965000</td>\n",
       "      <td>2.780000</td>\n",
       "      <td>673.500000</td>\n",
       "    </tr>\n",
       "    <tr>\n",
       "      <th>75%</th>\n",
       "      <td>3.000000</td>\n",
       "      <td>13.677500</td>\n",
       "      <td>3.082500</td>\n",
       "      <td>2.557500</td>\n",
       "      <td>21.500000</td>\n",
       "      <td>107.000000</td>\n",
       "      <td>2.800000</td>\n",
       "      <td>2.875000</td>\n",
       "      <td>0.437500</td>\n",
       "      <td>1.950000</td>\n",
       "      <td>6.200000</td>\n",
       "      <td>1.120000</td>\n",
       "      <td>3.170000</td>\n",
       "      <td>985.000000</td>\n",
       "    </tr>\n",
       "    <tr>\n",
       "      <th>max</th>\n",
       "      <td>3.000000</td>\n",
       "      <td>14.830000</td>\n",
       "      <td>5.800000</td>\n",
       "      <td>3.230000</td>\n",
       "      <td>30.000000</td>\n",
       "      <td>162.000000</td>\n",
       "      <td>3.880000</td>\n",
       "      <td>5.080000</td>\n",
       "      <td>0.660000</td>\n",
       "      <td>3.580000</td>\n",
       "      <td>13.000000</td>\n",
       "      <td>1.710000</td>\n",
       "      <td>4.000000</td>\n",
       "      <td>1680.000000</td>\n",
       "    </tr>\n",
       "  </tbody>\n",
       "</table>\n",
       "</div>"
      ],
      "text/plain": [
       "            Class     Alcohol  Malic_Acid         Ash  Alcalinity_of_Ash  \\\n",
       "count  178.000000  178.000000  178.000000  178.000000         178.000000   \n",
       "mean     1.938202   13.000618    2.336348    2.366517          19.494944   \n",
       "std      0.775035    0.811827    1.117146    0.274344           3.339564   \n",
       "min      1.000000   11.030000    0.740000    1.360000          10.600000   \n",
       "25%      1.000000   12.362500    1.602500    2.210000          17.200000   \n",
       "50%      2.000000   13.050000    1.865000    2.360000          19.500000   \n",
       "75%      3.000000   13.677500    3.082500    2.557500          21.500000   \n",
       "max      3.000000   14.830000    5.800000    3.230000          30.000000   \n",
       "\n",
       "        Magnesium  Total_Phenols  Flavanoids  Nonflavanoid_Phenols  \\\n",
       "count  178.000000     178.000000  178.000000            178.000000   \n",
       "mean    99.741573       2.295112    2.029270              0.361854   \n",
       "std     14.282484       0.625851    0.998859              0.124453   \n",
       "min     70.000000       0.980000    0.340000              0.130000   \n",
       "25%     88.000000       1.742500    1.205000              0.270000   \n",
       "50%     98.000000       2.355000    2.135000              0.340000   \n",
       "75%    107.000000       2.800000    2.875000              0.437500   \n",
       "max    162.000000       3.880000    5.080000              0.660000   \n",
       "\n",
       "       Proanthocyanins  Color_Intensity         Hue  OD280_OD315      Proline  \n",
       "count       178.000000       178.000000  178.000000   178.000000   178.000000  \n",
       "mean          1.590899         5.058090    0.957449     2.611685   746.893258  \n",
       "std           0.572359         2.318286    0.228572     0.709990   314.907474  \n",
       "min           0.410000         1.280000    0.480000     1.270000   278.000000  \n",
       "25%           1.250000         3.220000    0.782500     1.937500   500.500000  \n",
       "50%           1.555000         4.690000    0.965000     2.780000   673.500000  \n",
       "75%           1.950000         6.200000    1.120000     3.170000   985.000000  \n",
       "max           3.580000        13.000000    1.710000     4.000000  1680.000000  "
      ]
     },
     "execution_count": 155,
     "metadata": {},
     "output_type": "execute_result"
    }
   ],
   "source": [
    "data.describe()"
   ]
  },
  {
   "cell_type": "code",
   "execution_count": 156,
   "id": "c9b48530-8ebc-4e20-8f68-e4e2c7d8d2b0",
   "metadata": {},
   "outputs": [
    {
     "data": {
      "text/plain": [
       "Class                   0\n",
       "Alcohol                 0\n",
       "Malic_Acid              0\n",
       "Ash                     0\n",
       "Alcalinity_of_Ash       0\n",
       "Magnesium               0\n",
       "Total_Phenols           0\n",
       "Flavanoids              0\n",
       "Nonflavanoid_Phenols    0\n",
       "Proanthocyanins         0\n",
       "Color_Intensity         0\n",
       "Hue                     0\n",
       "OD280_OD315             0\n",
       "Proline                 0\n",
       "dtype: int64"
      ]
     },
     "execution_count": 156,
     "metadata": {},
     "output_type": "execute_result"
    }
   ],
   "source": [
    "data.isnull().sum()"
   ]
  },
  {
   "cell_type": "code",
   "execution_count": 157,
   "id": "a5b53598-f77c-4fb1-abc6-c7f6f85352af",
   "metadata": {},
   "outputs": [
    {
     "data": {
      "text/plain": [
       "array([1, 2, 3])"
      ]
     },
     "execution_count": 157,
     "metadata": {},
     "output_type": "execute_result"
    }
   ],
   "source": [
    "data[\"Class\"].unique()"
   ]
  },
  {
   "cell_type": "code",
   "execution_count": 158,
   "id": "b3f96237-c076-4396-891b-002b2231777d",
   "metadata": {},
   "outputs": [],
   "source": [
    "from sklearn.model_selection import train_test_split\n",
    "\n",
    "X = data.drop(\"Class\", axis=1)\n",
    "y = data[\"Class\"]\n",
    "\n",
    "X_train, X_test, y_train, y_test = train_test_split(X, y, test_size=0.2, random_state=42)"
   ]
  },
  {
   "cell_type": "code",
   "execution_count": 159,
   "id": "5834ae3d-ef53-4362-bb50-78710746f96c",
   "metadata": {},
   "outputs": [],
   "source": [
    "from sklearn.decomposition import PCA\n",
    "\n",
    "pca = PCA(n_components=None)\n",
    "X_pca = pca.fit_transform(X)  \n",
    "\n",
    "explained_variance_ratio = pca.explained_variance_ratio_\n",
    "cumulative_variance = explained_variance_ratio.cumsum()"
   ]
  },
  {
   "cell_type": "code",
   "execution_count": 160,
   "id": "c38f5514-3290-4c9c-9874-bf77b3829944",
   "metadata": {},
   "outputs": [
    {
     "data": {
      "text/plain": [
       "array([9.98091230e-01, 1.73591562e-03, 9.49589576e-05, 5.02173562e-05,\n",
       "       1.23636847e-05, 8.46213034e-06, 2.80681456e-06, 1.52308053e-06,\n",
       "       1.12783044e-06, 7.21415811e-07, 3.78060267e-07, 2.12013755e-07,\n",
       "       8.25392788e-08])"
      ]
     },
     "execution_count": 160,
     "metadata": {},
     "output_type": "execute_result"
    }
   ],
   "source": [
    "explained_variance_ratio"
   ]
  },
  {
   "cell_type": "code",
   "execution_count": 161,
   "id": "32bc943e-f1ec-4d01-bd07-06e084e0a4df",
   "metadata": {},
   "outputs": [
    {
     "data": {
      "image/png": "[encoded data removed]",
      "text/plain": [
       "<Figure size 1000x600 with 1 Axes>"
      ]
     },
     "metadata": {},
     "output_type": "display_data"
    }
   ],
   "source": [
    "import numpy as np\n",
    "\n",
    "n_components_95 = np.argmax(cumulative_variance >= 0.95) + 1\n",
    "\n",
    "plt.figure(figsize=(10, 6))\n",
    "plt.plot(range(1, len(explained_variance_ratio) + 1), cumulative_variance, marker='o', linestyle='--')\n",
    "plt.xlabel('Number of Principal Components')\n",
    "plt.ylabel('Cumulative Explained Variance')\n",
    "plt.title('PCA Explained Variance Ratio')\n",
    "plt.grid(True)\n",
    "plt.show()"
   ]
  },
  {
   "cell_type": "code",
   "execution_count": 162,
   "id": "c3b41ab5-5ee5-4ed2-b240-e87733b1bf0e",
   "metadata": {},
   "outputs": [
    {
     "data": {
      "image/png": "[encoded data removed]",
      "text/plain": [
       "<Figure size 1000x600 with 1 Axes>"
      ]
     },
     "metadata": {},
     "output_type": "display_data"
    }
   ],
   "source": [
    "plt.figure(figsize=(10, 6))\n",
    "plt.scatter(X_pca[:, 0], X_pca[:, 1], c=y, cmap='viridis')\n",
    "plt.xlabel('First Principal Component')\n",
    "plt.ylabel('Second Principal Component')\n",
    "plt.title('PCA Scatter Plot')\n",
    "plt.show()"
   ]
  },
  {
   "cell_type": "code",
   "execution_count": 163,
   "id": "f209db9d-edf6-4fe8-be72-36f21f1da839",
   "metadata": {},
   "outputs": [
    {
     "name": "stderr",
     "output_type": "stream",
     "text": [
      "/opt/conda/lib/python3.10/site-packages/sklearn/cluster/_kmeans.py:870: FutureWarning: The default value of `n_init` will change from 10 to 'auto' in 1.4. Set the value of `n_init` explicitly to suppress the warning\n",
      "  warnings.warn(\n"
     ]
    }
   ],
   "source": [
    "from sklearn.cluster import KMeans\n",
    "\n",
    "kmeans = KMeans(n_clusters=3, random_state=42) \n",
    "kmeans.fit_predict(X_pca)\n",
    "\n",
    "cluster_labels = kmeans.labels_"
   ]
  },
  {
   "cell_type": "code",
   "execution_count": 164,
   "id": "50b5a74b-0417-424a-b609-47bd1a946441",
   "metadata": {},
   "outputs": [
    {
     "data": {
      "text/plain": [
       "array([1, 1, 1, 1, 2, 1, 1, 1, 1, 1, 1, 1, 1, 1, 1, 1, 1, 1, 1, 2, 2, 2,\n",
       "       1, 1, 2, 2, 1, 1, 2, 1, 1, 1, 1, 1, 1, 2, 2, 1, 1, 2, 2, 1, 1, 2,\n",
       "       2, 1, 1, 1, 1, 1, 1, 1, 1, 1, 1, 1, 1, 1, 1, 0, 2, 0, 2, 0, 0, 2,\n",
       "       0, 0, 2, 2, 2, 0, 0, 1, 2, 0, 0, 0, 2, 0, 0, 2, 2, 0, 0, 0, 0, 0,\n",
       "       2, 2, 0, 0, 0, 0, 0, 2, 2, 0, 2, 0, 2, 0, 0, 0, 2, 0, 0, 0, 0, 2,\n",
       "       0, 0, 2, 0, 0, 0, 0, 0, 0, 0, 2, 0, 0, 0, 0, 0, 0, 0, 0, 0, 2, 0,\n",
       "       0, 2, 2, 2, 2, 0, 0, 0, 2, 2, 0, 0, 2, 2, 0, 2, 2, 0, 0, 0, 0, 2,\n",
       "       2, 2, 0, 2, 2, 2, 0, 2, 0, 2, 2, 0, 2, 2, 2, 2, 0, 0, 2, 2, 2, 2,\n",
       "       2, 0], dtype=int32)"
      ]
     },
     "execution_count": 164,
     "metadata": {},
     "output_type": "execute_result"
    }
   ],
   "source": [
    "cluster_labels"
   ]
  },
  {
   "cell_type": "code",
   "execution_count": 165,
   "id": "d2e79268-11ea-4677-8ca2-19bf03eac5fe",
   "metadata": {},
   "outputs": [
    {
     "name": "stdout",
     "output_type": "stream",
     "text": [
      "   Silhouette Score  Adjusted Rand Index\n",
      "0          0.571138             0.371114\n"
     ]
    }
   ],
   "source": [
    "from sklearn.metrics import silhouette_score, adjusted_rand_score\n",
    "\n",
    "silhouette_avg = silhouette_score(X_pca, cluster_labels)\n",
    "ari = adjusted_rand_score(y, cluster_labels)\n",
    "\n",
    "metrics_df = pd.DataFrame({\n",
    "    'Silhouette Score': [silhouette_avg],\n",
    "    'Adjusted Rand Index': [ari]\n",
    "})\n",
    "\n",
    "print(metrics_df)"
   ]
  },
  {
   "cell_type": "markdown",
   "id": "b045352c-7637-41d3-928d-032c7697eb8d",
   "metadata": {},
   "source": [
    "### Report"
   ]
  },
  {
   "cell_type": "code",
   "execution_count": 166,
   "id": "65ced73e-e021-4a10-a148-cd1478f1d834",
   "metadata": {},
   "outputs": [
    {
     "name": "stdout",
     "output_type": "stream",
     "text": [
      "PCA and Clustering Analysis Report\n",
      "\n",
      "1. PCA Analysis:\n",
      "   - Optimal number of principal components to explain 95% variance: 1\n",
      "\n",
      "2. Clustering Analysis:\n",
      "   - Silhouette Score for clustering: 0.57\n",
      "   - Adjusted Rand Index (ARI) for clustering: 0.37\n",
      "\n",
      "3. Visualizations:\n",
      "   - PCA Scatter Plot:\n",
      "     - The scatter plot shows how the data is distributed in the reduced-dimensional space.\n",
      "   - Cluster Distribution:\n",
      "     - Number of data points in each cluster:\n",
      "0    69\n",
      "2    62\n",
      "1    47\n",
      "dtype: int64\n",
      "\n"
     ]
    }
   ],
   "source": [
    "report = f\"PCA and Clustering Analysis Report\\n\\n\"\n",
    "report += f\"1. PCA Analysis:\\n\"\n",
    "report += f\"   - Optimal number of principal components to explain 95% variance: {n_components_95}\\n\\n\"\n",
    "\n",
    "report += f\"2. Clustering Analysis:\\n\"\n",
    "report += f\"   - Silhouette Score for clustering: {silhouette_avg:.2f}\\n\"\n",
    "report += f\"   - Adjusted Rand Index (ARI) for clustering: {ari:.2f}\\n\\n\"\n",
    "\n",
    "report += f\"3. Visualizations:\\n\"\n",
    "report += f\"   - PCA Scatter Plot:\\n\"\n",
    "report += f\"     - The scatter plot shows how the data is distributed in the reduced-dimensional space.\\n\"\n",
    "report += f\"   - Cluster Distribution:\\n\"\n",
    "report += f\"     - Number of data points in each cluster:\\n{pd.Series(cluster_labels).value_counts()}\\n\"\n",
    "\n",
    "print(report)"
   ]
  },
  {
   "cell_type": "markdown",
   "id": "7d7f8b9e-4f77-4b14-8ca8-7c5369c0701f",
   "metadata": {},
   "source": [
    "### Interpretation\n",
    "\n",
    "**PCA Analysis:**\n",
    "\n",
    "1. **Optimal Number of Principal Components:** The analysis suggests that the optimal number of principal components required to explain 95% of the variance in the data is `n_components_95`. This indicates that we can reduce the dimensionality of the data significantly while retaining most of the important information.\n",
    "\n",
    "2. **PCA Scatter Plot:** The PCA scatter plot visually represents how the data is distributed in the reduced-dimensional space. It allows us to observe any patterns or separations that may exist between data points. In this specific case, we are visualizing the data using the first two principal components.\n",
    "\n",
    "**Clustering Analysis:**\n",
    "\n",
    "3. **Silhouette Score:** The silhouette score is a measure of the quality of clustering. It quantifies how similar each data point is to its own cluster (cohesion) compared to other clusters (separation). A higher silhouette score indicates better-defined, well-separated clusters. In our analysis, we obtained a silhouette score of `silhouette_avg`.\n",
    "\n",
    "4. **Adjusted Rand Index (ARI):** The adjusted Rand index measures the similarity between true class labels and cluster labels, adjusted for chance. It ranges from -1 to 1, where higher values indicate better clustering. In our analysis, we obtained an adjusted Rand index of `ari`.\n",
    "\n",
    "**Interpretation and Conclusion:**\n",
    "\n",
    "1. **PCA Analysis Insights:** The optimal number of principal components to retain 95% of the variance is important for dimensionality reduction. By using fewer dimensions, we can simplify the data representation while retaining most of the information.\n",
    "\n",
    "2. **PCA Scatter Plot Insights:** The PCA scatter plot provides a visual representation of the data in two dimensions. It may reveal natural clusters or patterns, but in this case, it may not be very informative since the data is colored by the true class labels.\n",
    "\n",
    "3. **Clustering Analysis Insights:** \n",
    "   - The silhouette score of `silhouette_avg` suggests that the clustering quality is moderate. It indicates that the clusters have some degree of overlap or that some data points may be assigned to the wrong cluster.\n",
    "   - The adjusted Rand index of `ari` measures how well the clusters align with the true class labels. A higher ARI indicates better clustering alignment with the ground truth.\n",
    "\n",
    "4. **Overall Conclusion:** The results of the PCA and clustering analysis indicate that while PCA can reduce the dimensionality of the data effectively, the K-Means clustering algorithm may not perfectly separate the classes. Further exploration and refinement of clustering methods or the consideration of other clustering algorithms may be needed to improve the quality of clustering. Additionally, domain knowledge or additional features may help in understanding and enhancing the clustering results."
   ]
  },
  {
   "cell_type": "code",
   "execution_count": null,
   "id": "54f11e7b-f8e8-4eda-bb2b-5a124c97b94c",
   "metadata": {},
   "outputs": [],
   "source": []
  }
 ],
 "metadata": {
  "kernelspec": {
   "display_name": "Python 3 (ipykernel)",
   "language": "python",
   "name": "python3"
  },
  "language_info": {
   "codemirror_mode": {
    "name": "ipython",
    "version": 3
   },
   "file_extension": ".py",
   "mimetype": "text/x-python",
   "name": "python",
   "nbconvert_exporter": "python",
   "pygments_lexer": "ipython3",
   "version": "3.10.8"
  }
 },
 "nbformat": 4,
 "nbformat_minor": 5
}
